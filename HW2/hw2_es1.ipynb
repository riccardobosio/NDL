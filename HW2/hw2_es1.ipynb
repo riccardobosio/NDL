{
 "cells": [
  {
   "cell_type": "code",
   "execution_count": 23,
   "metadata": {},
   "outputs": [],
   "source": [
    "import numpy as np\n",
    "import networkx as nx\n",
    "from numpy.random import choice,random\n",
    "import matplotlib.pyplot as plt\n",
    "np.random.seed(42)"
   ]
  },
  {
   "cell_type": "code",
   "execution_count": 24,
   "metadata": {},
   "outputs": [
    {
     "data": {
      "image/png": "[encoded data removed]",
      "text/plain": [
       "<Figure size 432x288 with 1 Axes>"
      ]
     },
     "metadata": {},
     "output_type": "display_data"
    }
   ],
   "source": [
    "Lambda = np.array([[0,2/5,1/5,0,0],\n",
    "                [0,0,3/4,1/4,0],\n",
    "                [1/2,0,0,1/2,0],\n",
    "                [0,0,1/3,0,2/3],\n",
    "                [0,1/3,0,1/3,0]])\n",
    "G = nx.DiGraph()\n",
    "G.add_nodes_from(['o','a','b','c','d'])\n",
    "G.add_weighted_edges_from([('o', 'a', 2/5), ('o', 'b', 1/5), ('a', 'b', 3/4), ('a', 'c', 1/4), ('b', 'o', 1/2), ('b', 'c', 1/2), ('c', 'b', 1/3), ('c', 'd', 2/3), ('d', 'a', 1/3), ('d', 'c', 1/3)])\n",
    "nx.draw(G, with_labels = True)"
   ]
  },
  {
   "cell_type": "code",
   "execution_count": 25,
   "metadata": {},
   "outputs": [],
   "source": [
    "W = Lambda\n",
    "degrees = np.sum(W, axis = 1)\n",
    "D = np.diag(degrees)\n",
    "P = np.linalg.inv(D) @ W\n",
    "w = np.sum(W, axis = 1)\n",
    "w_star = np.max(w)\n",
    "Q = Lambda / w_star\n",
    "Q = Q + np.diag(np.ones(len(w)) - np.sum(Q, axis = 1))\n",
    "Q_cum = np.cumsum(Q, axis = 1)"
   ]
  },
  {
   "cell_type": "code",
   "execution_count": 26,
   "metadata": {},
   "outputs": [
    {
     "name": "stdout",
     "output_type": "stream",
     "text": [
      "7.026341489629242\n"
     ]
    }
   ],
   "source": [
    "#Point A\n",
    "def RandomWalk(G, start, end, Q, nodes, w):\n",
    "    nodeSeq = [start]\n",
    "    transition_times = [0]\n",
    "    while True:\n",
    "        start = choice(G.adj[start],1)[0]\n",
    "        t_next =- np.log(np.random.rand()) / w\n",
    "        nodeSeq.append(start)\n",
    "        t_next += transition_times[-1]\n",
    "        transition_times.append(t_next)\n",
    "        if start == end:\n",
    "            return nodeSeq, transition_times\n",
    "        \n",
    "def averageTime(start, end, num_steps, w):\n",
    "    somma = 0\n",
    "    for _ in range(num_steps):\n",
    "        _, transition_times = RandomWalk(G, start, end, Q_cum, nodes, w)\n",
    "        somma = somma + transition_times[-1]\n",
    "    return somma / num_steps # average return time\n",
    "\n",
    "nodes = ['o','a','b','c','d']\n",
    "simulation = averageTime(\"a\", \"a\", 10000, w_star)\n",
    "print(simulation)"
   ]
  },
  {
   "cell_type": "code",
   "execution_count": 27,
   "metadata": {},
   "outputs": [
    {
     "name": "stdout",
     "output_type": "stream",
     "text": [
      "Expected hitting times on a:  [3.57142857 0.         5.71428571 5.85714286 4.42857143]\n",
      "Expected return time:  6.75\n"
     ]
    }
   ],
   "source": [
    "#Point B\n",
    "n_nodes = G.number_of_nodes()\n",
    "#define the set S and the remaining nodes R\n",
    "S = [1]\n",
    "#define the remaining nodes R\n",
    "R = [node for node in range(n_nodes) if node not in S]\n",
    "#restrict P to R x R and obtain hat(P)\n",
    "hatP = P[np.ix_(R, R)]\n",
    "hatw = w[np.ix_(R)]\n",
    "#hat(x) is the solution of the linear system\n",
    "hatx = np.linalg.solve((np.identity(n_nodes-len(S))-hatP),(np.ones(n_nodes-len(S))/hatw))\n",
    "#hitting time = 0 if the starting node is in S\n",
    "hitting_s = np.zeros(n_nodes)\n",
    "#hitting time = hat(x) for nodes in R\n",
    "hitting_s[R] = hatx\n",
    "print('Expected hitting times on a: ',hitting_s)\n",
    "tau_a = 1 / w[1] + P[1, :] @ hitting_s\n",
    "print('Expected return time: ',tau_a)"
   ]
  },
  {
   "cell_type": "code",
   "execution_count": 28,
   "metadata": {},
   "outputs": [
    {
     "name": "stdout",
     "output_type": "stream",
     "text": [
      "8.46595194141912\n"
     ]
    }
   ],
   "source": [
    "#Point C\n",
    "simulation = averageTime(\"o\", \"d\", 10000, w_star)\n",
    "print(simulation)"
   ]
  },
  {
   "cell_type": "code",
   "execution_count": 29,
   "metadata": {
    "scrolled": true
   },
   "outputs": [
    {
     "name": "stdout",
     "output_type": "stream",
     "text": [
      "8.785714285714285\n",
      "Error simulation 0.3197623442951638\n"
     ]
    }
   ],
   "source": [
    "#Point D\n",
    "n_nodes = G.number_of_nodes()\n",
    "S = [4]\n",
    "R = [node for node in range(n_nodes) if node not in S]\n",
    "hatP = P[np.ix_(R, R)]\n",
    "hatw = w[np.ix_(R)]\n",
    "hatx = np.linalg.solve((np.identity(n_nodes - len(S)) - hatP), (np.ones(n_nodes - len(S)) / hatw))\n",
    "hitting_s = np.zeros(n_nodes)\n",
    "hitting_s[R] = hatx\n",
    "expected_od = hitting_s[0]\n",
    "print(expected_od)\n",
    "print(\"Error simulation\",abs(simulation - expected_od))"
   ]
  },
  {
   "cell_type": "code",
   "execution_count": 30,
   "metadata": {},
   "outputs": [
    {
     "name": "stdout",
     "output_type": "stream",
     "text": [
      "[0.56521739 0.56521739 0.56521739 0.56521739 0.56521739]\n"
     ]
    }
   ],
   "source": [
    "#Point E\n",
    "#since the graph is strongly connected, the condensation graph is composed of a single sink;\n",
    "#that sink is aperiodic and so x(t) converges to a consensus status.\n",
    "\n",
    "#arbitrary initial condition\n",
    "x = np.array([1,0,1,0,1])\n",
    "for iter in range(500):\n",
    "    x = P @ x\n",
    "print(x)"
   ]
  },
  {
   "cell_type": "code",
   "execution_count": 31,
   "metadata": {},
   "outputs": [
    {
     "name": "stdout",
     "output_type": "stream",
     "text": [
      "The variance of the consensus state is: 0.016601992306451107 \n",
      "\n",
      "pi 0 = [0.13043478 0.17391304 0.26086957 0.26086957 0.17391304]\n",
      "0.017800882167611845\n"
     ]
    }
   ],
   "source": [
    "#Point F\n",
    "alfa_err = np.zeros(200)\n",
    "\n",
    "#with numerical simulations\n",
    "for i in range(200):\n",
    "#since rand returns random values in [0,1], mu = 1/2\n",
    "    x = np.random.rand(5)\n",
    "    for n in range(500):\n",
    "        x = P @ x\n",
    "    alfa_err[i] = (1/2 - np.mean(x)) * (1/2 - np.mean(x))\n",
    "print(\"The variance of the consensus state is:\", np.mean(alfa_err), \"\\n\")\n",
    "\n",
    "w,v = np.linalg.eig(P.T)\n",
    "#selects the eigenvalue 1 and print the eigenvector\n",
    "for index in [i for i in range(len(G)) if np.isclose(w[i],1)]: \n",
    "    pi = v[:,index].real  # -> eigenvectors are complex but pi is real, so we convert it to real\n",
    "    pi = pi / np.sum(pi)\n",
    "    print(\"pi\", index, \"=\", pi)\n",
    "#uniform distribution, so the variance is 1/12\n",
    "sigma = 1/12\n",
    "res = np.sum(np.square(pi)) * sigma\n",
    "print(res)"
   ]
  },
  {
   "cell_type": "code",
   "execution_count": 32,
   "metadata": {
    "scrolled": true
   },
   "outputs": [
    {
     "name": "stdout",
     "output_type": "stream",
     "text": [
      "x(0): [0.32661328 0.66500081 0.90800295 0.97771419 0.88679286]\n",
      "The asymptotic state x is: [0.88679286 0.88679286 0.88679286 0.88679286 0.88679286]\n",
      "The variance of the consensus state is: 0.08765319529831926 \n",
      "\n"
     ]
    },
    {
     "data": {
      "image/png": "[encoded data removed]",
      "text/plain": [
       "<Figure size 432x288 with 1 Axes>"
      ]
     },
     "metadata": {},
     "output_type": "display_data"
    }
   ],
   "source": [
    "#Point G\n",
    "G.remove_edges_from([('d', 'a'), ('d', 'c')])\n",
    "nx.draw(G, with_labels = True)\n",
    "W = nx.adjacency_matrix(G)\n",
    "W = W.toarray()\n",
    "W[4][4] = 0.00001   \n",
    "degrees = np.sum(W, axis = 1)\n",
    "D = np.diag(degrees)\n",
    "P = np.linalg.inv(D) @ W\n",
    "x = np.random.rand(5)\n",
    "print('x(0):', x)\n",
    "for iter in range(500):\n",
    "    x = P @ x\n",
    "print(\"The asymptotic state x is:\", x)\n",
    "#with numerical simulations\n",
    "for i in range(200):\n",
    "    #since rand returns random values in [0,1], mu = 1/2\n",
    "    x = np.random.rand(5)\n",
    "    var = np.var(x)\n",
    "    for n in range(500):\n",
    "        x = P @ x\n",
    "    alfa_err[i] = (1/2 - np.mean(x)) * (1/2 - np.mean(x))\n",
    "print(\"The variance of the consensus state is:\", np.mean(alfa_err), \"\\n\")"
   ]
  },
  {
   "cell_type": "code",
   "execution_count": 33,
   "metadata": {},
   "outputs": [
    {
     "name": "stdout",
     "output_type": "stream",
     "text": [
      "Initial state: [0.4222791  0.15368224 0.47811416 0.31793942 0.96788916]\n",
      "The asymptotic state x: [0.61791622 0.59291816 0.81790076 0.31793942 0.96788916]\n"
     ]
    },
    {
     "data": {
      "image/png": "[encoded data removed]",
      "text/plain": [
       "<Figure size 432x288 with 1 Axes>"
      ]
     },
     "metadata": {},
     "output_type": "display_data"
    }
   ],
   "source": [
    "#Point H\n",
    "G = nx.DiGraph()\n",
    "G.add_weighted_edges_from([('o', 'a', 2/5), ('o', 'b', 1/5), ('a', 'b', 3/4), ('a', 'c', 1/4), ('b', 'o', 1/2), ('b', 'c', 1/2), ('c', 'd', 2/3), ('d', 'c', 1/3)])\n",
    "nx.draw(G, with_labels = True)\n",
    "#re-construct P\n",
    "W = nx.adjacency_matrix(G)\n",
    "W = W.toarray()\n",
    "degrees = np.sum(W, axis = 1)\n",
    "D = np.diag(degrees)\n",
    "P = np.linalg.inv(D) @ W\n",
    "x = np.random.rand(5)\n",
    "print(\"Initial state:\", x)\n",
    "#check the result by running the averaging dynamics\n",
    "for iter in range(500):\n",
    "    x = P @ x   \n",
    "print(\"The asymptotic state x:\", x)"
   ]
  }
 ],
 "metadata": {
  "kernelspec": {
   "display_name": "Python 3",
   "language": "python",
   "name": "python3"
  },
  "language_info": {
   "codemirror_mode": {
    "name": "ipython",
    "version": 3
   },
   "file_extension": ".py",
   "mimetype": "text/x-python",
   "name": "python",
   "nbconvert_exporter": "python",
   "pygments_lexer": "ipython3",
   "version": "3.8.2"
  }
 },
 "nbformat": 4,
 "nbformat_minor": 4
}
