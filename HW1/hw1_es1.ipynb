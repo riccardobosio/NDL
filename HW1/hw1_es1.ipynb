{
 "cells": [
  {
   "cell_type": "code",
   "execution_count": 1,
   "metadata": {},
   "outputs": [],
   "source": [
    "import networkx as nx"
   ]
  },
  {
   "cell_type": "code",
   "execution_count": 2,
   "metadata": {},
   "outputs": [
    {
     "data": {
      "text/plain": [
       "{('o', 'a'): Text(0.5, 1.5, 'e1'),\n",
       " ('o', 'b'): Text(0.5, 0.5, 'e2'),\n",
       " ('a', 'b'): Text(1.0, 1.0, 'e3'),\n",
       " ('a', 'd'): Text(1.5, 1.5, 'e4'),\n",
       " ('b', 'd'): Text(1.5, 0.5, 'e5')}"
      ]
     },
     "execution_count": 2,
     "metadata": {},
     "output_type": "execute_result"
    },
    {
     "data": {
      "image/png": "[encoded data removed]",
      "text/plain": [
       "<Figure size 432x288 with 1 Axes>"
      ]
     },
     "metadata": {},
     "output_type": "display_data"
    }
   ],
   "source": [
    "G = nx.DiGraph()\n",
    "G.add_nodes_from(['o', 'a', 'b', 'd'])\n",
    "G.add_edges_from([('o', 'a'), ('o', 'b'), ('a', 'b'), ('a', 'd'), ('b', 'd')], labels = ['e1', 'e2', 'e3', 'e4', 'e5'])\n",
    "pos = dict()\n",
    "pos.update({'o' : (0, 1)})\n",
    "pos.update({'a' : (1, 2)})\n",
    "pos.update({'b' : (1, 0)})\n",
    "pos.update({'d' : (2, 1)})\n",
    "nx.draw(G, pos = pos, with_labels = True)\n",
    "nx.draw_networkx_edge_labels(G, pos = pos, edge_labels = {('o', 'a') : 'e1', ('o', 'b') : 'e2', ('a', 'b') : 'e3', ('a', 'd') : 'e4', ('b', 'd') : 'e5'})"
   ]
  }
 ],
 "metadata": {
  "kernelspec": {
   "display_name": "Python 3",
   "language": "python",
   "name": "python3"
  },
  "language_info": {
   "codemirror_mode": {
    "name": "ipython",
    "version": 3
   },
   "file_extension": ".py",
   "mimetype": "text/x-python",
   "name": "python",
   "nbconvert_exporter": "python",
   "pygments_lexer": "ipython3",
   "version": "3.8.2"
  }
 },
 "nbformat": 4,
 "nbformat_minor": 4
}
